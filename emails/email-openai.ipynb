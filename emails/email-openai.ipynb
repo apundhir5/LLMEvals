{
 "cells": [
  {
   "cell_type": "code",
   "execution_count": 1,
   "metadata": {},
   "outputs": [],
   "source": [
    "import openai\n",
    "import email\n",
    "from email import policy\n",
    "from email.parser import BytesParser\n",
    "import re\n"
   ]
  },
  {
   "cell_type": "code",
   "execution_count": 2,
   "metadata": {},
   "outputs": [],
   "source": [
    "\n",
    "import os\n",
    "from dotenv import load_dotenv"
   ]
  },
  {
   "cell_type": "code",
   "execution_count": null,
   "metadata": {},
   "outputs": [],
   "source": [
    "load_dotenv()\n",
    "Open_API_KEY = os.environ.get(\"OPENAI_API_KEY\")\n",
    "openai.api_key = Open_API_KEY"
   ]
  },
  {
   "cell_type": "code",
   "execution_count": 9,
   "metadata": {},
   "outputs": [],
   "source": [
    "# Function to compute semantic embeddings using OpenAI API\n",
    "def get_embedding(text):\n",
    "    response = openai.Embedding.create(input=[text], engine=\"text-embedding-ada-002\")\n",
    "    return response['data'][0]['embedding']\n"
   ]
  },
  {
   "cell_type": "code",
   "execution_count": 6,
   "metadata": {},
   "outputs": [],
   "source": [
    "# Function to split an email chain into individual messages\n",
    "def split_email_chain(body):\n",
    "    # Simple heuristic: split on \"From:\" line, assuming it's the start of an email message.\n",
    "    # This will not work perfectly for all email chains.\n",
    "    messages = re.split(r'(?m)^From:\\s.*$', body)\n",
    "    # Clean up the messages and remove empty entries\n",
    "    messages = [msg.strip() for msg in messages if msg.strip()]\n",
    "    return messages"
   ]
  },
  {
   "cell_type": "code",
   "execution_count": null,
   "metadata": {},
   "outputs": [],
   "source": [
    "%pip install spicy"
   ]
  },
  {
   "cell_type": "code",
   "execution_count": 13,
   "metadata": {},
   "outputs": [],
   "source": [
    "from scipy.spatial.distance import cosine\n",
    "\n",
    "# Function to calculate cosine similarity\n",
    "def calculate_similarity(embedding1, embedding2):\n",
    "    # Cosine similarity is the dot product of the vectors divided by the product of their magnitudes.\n",
    "    # The scipy.spatial.distance.cosine function actually calculates the cosine distance, \n",
    "    # which is 1 - cosine similarity, so we subtract from 1.\n",
    "    return 1 - cosine(embedding1, embedding2)"
   ]
  },
  {
   "cell_type": "code",
   "execution_count": 16,
   "metadata": {},
   "outputs": [],
   "source": [
    "# Function to find semantically similar emails in a chain\n",
    "def semantic_email_search(eml_path, query, similarity_threshold=0.5):\n",
    "    query_embedding = get_embedding(query)\n",
    "\n",
    "    # Read and parse the .eml file\n",
    "    with open(eml_path, 'rb') as f:\n",
    "        msg = BytesParser(policy=policy.default).parse(f)\n",
    "    \n",
    "    # Extract message body\n",
    "    body = msg.get_body(preferencelist=('plain', 'html')).get_content()\n",
    "\n",
    "    # Split the email chain into individual messages\n",
    "    messages = split_email_chain(body)\n",
    "\n",
    "    for i, message in enumerate(messages):\n",
    "        # Compute the semantic embedding of the email message\n",
    "        email_embedding = get_embedding(message)\n",
    "\n",
    "        # Calculate cosine similarity between query and email content embeddings\n",
    "        similarity_score = calculate_similarity(query_embedding, email_embedding)\n",
    "        if similarity_score > similarity_threshold:\n",
    "            print(f\"Message {i+1} in the chain is semantically similar to the query with a similarity score of {similarity_score}\")\n",
    "            print(f\"Content: {message}...\\n\")  # Print first 200 chars of the content\n"
   ]
  },
  {
   "cell_type": "code",
   "execution_count": null,
   "metadata": {},
   "outputs": [],
   "source": [
    "# Example usage\n",
    "eml_file_path = \"email-data.eml\" \n",
    "search_query = \" WBS code\"\n",
    "\n",
    "semantic_email_search(eml_file_path, search_query)"
   ]
  },
  {
   "cell_type": "code",
   "execution_count": null,
   "metadata": {},
   "outputs": [],
   "source": []
  }
 ],
 "metadata": {
  "kernelspec": {
   "display_name": "honeywell",
   "language": "python",
   "name": "python3"
  },
  "language_info": {
   "codemirror_mode": {
    "name": "ipython",
    "version": 3
   },
   "file_extension": ".py",
   "mimetype": "text/x-python",
   "name": "python",
   "nbconvert_exporter": "python",
   "pygments_lexer": "ipython3",
   "version": "3.11.5"
  }
 },
 "nbformat": 4,
 "nbformat_minor": 2
}
