{
 "cells": [
  {
   "cell_type": "code",
   "execution_count": null,
   "metadata": {},
   "outputs": [],
   "source": [
    "from transformers import AutoTokenizer, AutoModel\n",
    "import torch\n",
    "import spacy\n",
    "import re\n",
    "from email.parser import BytesParser"
   ]
  },
  {
   "cell_type": "code",
   "execution_count": null,
   "metadata": {},
   "outputs": [],
   "source": [
    "!python -m spacy download en_core_web_md"
   ]
  },
  {
   "cell_type": "code",
   "execution_count": null,
   "metadata": {},
   "outputs": [],
   "source": [
    "# Load spaCy model\n",
    "nlp = spacy.load('en_core_web_md')\n",
    "\n",
    "# Load pre-trained model and tokenizer from Hugging Face\n",
    "tokenizer = AutoTokenizer.from_pretrained('sentence-transformers/all-MiniLM-L6-v2')\n",
    "model = AutoModel.from_pretrained('sentence-transformers/all-MiniLM-L6-v2')"
   ]
  },
  {
   "cell_type": "code",
   "execution_count": 7,
   "metadata": {},
   "outputs": [],
   "source": [
    "def get_embedding(text):\n",
    "    inputs = tokenizer(text, return_tensors='pt', padding=True, truncation=True)\n",
    "    outputs = model(**inputs)\n",
    "    return outputs.last_hidden_state.mean(dim=1)"
   ]
  },
  {
   "cell_type": "code",
   "execution_count": 14,
   "metadata": {},
   "outputs": [],
   "source": [
    "from email import policy"
   ]
  },
  {
   "cell_type": "code",
   "execution_count": 15,
   "metadata": {},
   "outputs": [],
   "source": [
    "# Function to split an email chain into individual messages\n",
    "def split_email_chain(body):\n",
    "    # Simple heuristic: split on \"From:\" line, assuming it's the start of an email message.\n",
    "    # This will not work perfectly for all email chains.\n",
    "    messages = re.split(r'(?m)^From:\\s.*$', body)\n",
    "    # Clean up the messages and remove empty entries\n",
    "    messages = [msg.strip() for msg in messages if msg.strip()]\n",
    "    return messages"
   ]
  },
  {
   "cell_type": "code",
   "execution_count": 28,
   "metadata": {},
   "outputs": [],
   "source": [
    "# Function to parse emails and find semantically similar content\n",
    "def semantic_email_search(eml_file_path, query, similarity_threshold=0.7):\n",
    "    query_embedding = get_embedding(query).detach()\n",
    "\n",
    "    # Read and parse the .eml file\n",
    "    with open(eml_file_path, 'rb') as f:\n",
    "        msg = BytesParser(policy=policy.default).parse(f)\n",
    "    \n",
    "    # Extract message body\n",
    "    body = msg.get_body(preferencelist=('plain', 'html')).get_content()\n",
    "\n",
    "    # Split the email chain into individual messages\n",
    "    messages = split_email_chain(body)\n",
    "\n",
    "    for i, message in enumerate(messages):\n",
    "        # Compute the semantic embedding of the email message\n",
    "        email_embedding = get_embedding(message)\n",
    "\n",
    "        # Compute cosine similarity between query and email content\n",
    "        cos_sim = torch.nn.functional.cosine_similarity(query_embedding, email_embedding)\n",
    "        print(cos_sim.item())\n",
    "        if cos_sim.item() > similarity_threshold:\n",
    "            print(f\"Message {i+1} in the chain is semantically similar to the query with a similarity score of {cos_sim.item()}\")\n",
    "            print(f\"Content: {message[:200]}...\")  # Print first 200 chars of the content\n"
   ]
  },
  {
   "cell_type": "code",
   "execution_count": null,
   "metadata": {},
   "outputs": [],
   "source": [
    "# Example usage\n",
    "eml_file_path = \"email-data.eml\" \n",
    "search_query = \" WBS code\"\n",
    "\n",
    "semantic_email_search(eml_file_path, search_query, similarity_threshold=0.3"
   ]
  }
 ],
 "metadata": {
  "kernelspec": {
   "display_name": "somecompany",
   "language": "python",
   "name": "python3"
  },
  "language_info": {
   "codemirror_mode": {
    "name": "ipython",
    "version": 3
   },
   "file_extension": ".py",
   "mimetype": "text/x-python",
   "name": "python",
   "nbconvert_exporter": "python",
   "pygments_lexer": "ipython3",
   "version": "3.11.5"
  }
 },
 "nbformat": 4,
 "nbformat_minor": 2
}
